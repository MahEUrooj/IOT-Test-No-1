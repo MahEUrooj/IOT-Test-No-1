{
  "nbformat": 4,
  "nbformat_minor": 0,
  "metadata": {
    "colab": {
      "name": "IOT test.ipynb",
      "provenance": [],
      "collapsed_sections": []
    },
    "kernelspec": {
      "name": "python3",
      "display_name": "Python 3"
    },
    "language_info": {
      "name": "python"
    }
  },
  "cells": [
    {
      "cell_type": "markdown",
      "source": [
        "Q1) Python program to print all odd numbers in a list."
      ],
      "metadata": {
        "id": "8PSamru2u8ph"
      }
    },
    {
      "cell_type": "code",
      "source": [
        "#Python program to print all odd numbers in a list.\n",
        "\n",
        "list_numbers=list(map(int,input('Enter elements of list: ').split()))\n",
        "\n",
        "#Creating two empty lists\n",
        "Odd_number=[]\n",
        "Even_number=[]\n",
        "\n",
        "for i in list_numbers:\n",
        "    if i%2!=0:\n",
        "        Odd_number.append(i)\n",
        "    else:\n",
        "        Even_number.append(i)\n",
        "\n",
        "print(\"List of odd number is: \", Odd_number)\n",
        "print(\"List of even number is: \", Even_number)"
      ],
      "metadata": {
        "colab": {
          "base_uri": "https://localhost:8080/"
        },
        "id": "BiXg1BVdtkUp",
        "outputId": "3da9bf61-b101-49c2-e8a0-6353930ecd30"
      },
      "execution_count": 28,
      "outputs": [
        {
          "output_type": "stream",
          "name": "stdout",
          "text": [
            "Enter elements of list: 1 2 3 4 5 6 7 8 9 10 11 12 13 14 15\n",
            "List of odd number is:  [1, 3, 5, 7, 9, 11, 13, 15]\n",
            "List of even number is:  [2, 4, 6, 8, 10, 12, 14]\n"
          ]
        }
      ]
    },
    {
      "cell_type": "markdown",
      "source": [
        "Q2) Python program to find the sum of list elements."
      ],
      "metadata": {
        "id": "cEIWxd53vG_Z"
      }
    },
    {
      "cell_type": "code",
      "source": [
        "#Python program to find the sum of list elements.\n",
        "numbers_list=[]\n",
        "p=int(input(\"Enter list size\"))\n",
        "\n",
        "print(\"\\n\")\n",
        "for i in range (0,p):\n",
        "  print(\"Enter no. at index \",i)\n",
        "  num=int(input())\n",
        "  numbers_list.append(num)\n",
        "\n",
        "print(\"User list is\" ,numbers_list)\n",
        "(\"\\n\")\n",
        "print(\"Sum of numbers: \")\n",
        "print(sum(numbers_list))\n",
        "\n",
        "\n",
        "\n"
      ],
      "metadata": {
        "colab": {
          "base_uri": "https://localhost:8080/"
        },
        "id": "w7SGmAxmcO8E",
        "outputId": "e2cfb5d5-7f63-46ab-e87c-9adbf5ef7c92"
      },
      "execution_count": 4,
      "outputs": [
        {
          "output_type": "stream",
          "name": "stdout",
          "text": [
            "Enter list size8\n",
            "\n",
            "\n",
            "Enter no. at index  0\n",
            "1\n",
            "Enter no. at index  1\n",
            "12\n",
            "Enter no. at index  2\n",
            "34\n",
            "Enter no. at index  3\n",
            "45\n",
            "Enter no. at index  4\n",
            "52\n",
            "Enter no. at index  5\n",
            "64\n",
            "Enter no. at index  6\n",
            "78\n",
            "Enter no. at index  7\n",
            "86\n",
            "User list is [1, 12, 34, 45, 52, 64, 78, 86]\n",
            "Sum of numbers: \n",
            "372\n"
          ]
        }
      ]
    },
    {
      "cell_type": "markdown",
      "source": [
        "Q3) Python program to reverse a list in two ways."
      ],
      "metadata": {
        "id": "kPqFBNsWwRYU"
      }
    },
    {
      "cell_type": "code",
      "source": [
        "#Python program to reverse a list in two ways.\n",
        "item_list=[]\n",
        "p=int(input(\" Enter list size\"))\n",
        "\n",
        "print(\"\\n\")\n",
        "for i in range (0,p):\n",
        "  print(\"Enter item at index \",i, )\n",
        "  item=input()\n",
        "  item_list.append(item)\n",
        "\n",
        "print(\"User list is\" ,item_list)\n",
        "print(\"The reverse list is: \")\n",
        "item_list.reverse()\n",
        "print(item_list)\n",
        "\n",
        "print(\"\\n\"\"Second method to reverse list using slicing: \")\n",
        "item_list[-1],item_list[0]=item_list[0],item_list[-1]\n",
        "print(item_list)\n"
      ],
      "metadata": {
        "colab": {
          "base_uri": "https://localhost:8080/"
        },
        "id": "BbmXyXgkch7l",
        "outputId": "49c23f4c-293a-4dec-de9c-4f9a45b4b54c"
      },
      "execution_count": 2,
      "outputs": [
        {
          "output_type": "stream",
          "name": "stdout",
          "text": [
            " Enter list size10\n",
            "\n",
            "\n",
            "Enter item at index  0\n",
            "milk\n",
            "Enter item at index  1\n",
            "yogurt\n",
            "Enter item at index  2\n",
            "cereals\n",
            "Enter item at index  3\n",
            "grain\n",
            "Enter item at index  4\n",
            "pulses\n",
            "Enter item at index  5\n",
            "wheat\n",
            "Enter item at index  6\n",
            "rice\n",
            "Enter item at index  7\n",
            "spices\n",
            "Enter item at index  8\n",
            "sugar\n",
            "Enter item at index  9\n",
            "porridge\n",
            "User list is ['milk', 'yogurt', 'cereals', 'grain', 'pulses', 'wheat', 'rice', 'spices', 'sugar', 'porridge']\n",
            "The reverse list is: \n",
            "['porridge', 'sugar', 'spices', 'rice', 'wheat', 'pulses', 'grain', 'cereals', 'yogurt', 'milk']\n",
            "\n",
            "Second method to reverse list using slicing: \n",
            "['milk', 'sugar', 'spices', 'rice', 'wheat', 'pulses', 'grain', 'cereals', 'yogurt', 'porridge']\n"
          ]
        }
      ]
    },
    {
      "cell_type": "markdown",
      "source": [
        "Q4) Python program to find the top two maximum\n",
        "numbers in a list."
      ],
      "metadata": {
        "id": "0DIbU20-zG3w"
      }
    },
    {
      "cell_type": "code",
      "source": [
        "#Python program to find the top two maximum numbers in a list.\n",
        "\n",
        "num_list=[]\n",
        "x=int(input(\"Enter list size: \"))\n",
        "\n",
        "print(\"\\n\")\n",
        "\n",
        "for r in range (0,x):\n",
        "  print(\"Enter no. at index \",r)\n",
        "  num=int(input())\n",
        "  num_list.append(num)\n",
        "\n",
        "print(\"User list is: \",num_list )\n",
        "print(\"The sorted list is: \")\n",
        "num_list.sort()\n",
        "print(num_list)\n",
        "(\"\\n\")\n",
        "print(\"The maximum number in list is: \", num_list[4])\n",
        "print(\"The second maximum number in list is: \", num_list[3])\n",
        "\n"
      ],
      "metadata": {
        "colab": {
          "base_uri": "https://localhost:8080/"
        },
        "id": "3bDLEb5bixR1",
        "outputId": "f0c53e0f-63bd-4a41-9b1b-d65121531ef9"
      },
      "execution_count": 2,
      "outputs": [
        {
          "output_type": "stream",
          "name": "stdout",
          "text": [
            "Enter list size: 5\n",
            "\n",
            "\n",
            "Enter no. at index  0\n",
            "12\n",
            "Enter no. at index  1\n",
            "34\n",
            "Enter no. at index  2\n",
            "5\n",
            "Enter no. at index  3\n",
            "9\n",
            "Enter no. at index  4\n",
            "64\n",
            "User list is:  [12, 34, 5, 9, 64]\n",
            "The sorted list is: \n",
            "[5, 9, 12, 34, 64]\n",
            "The maximum number in list is:  64\n",
            "The second maximum number in list is:  34\n"
          ]
        }
      ]
    },
    {
      "cell_type": "markdown",
      "source": [
        "Q5) Write a program in Python to find the second highest\n",
        "number in an integer list."
      ],
      "metadata": {
        "id": "Cq3n8XfjzNr2"
      }
    },
    {
      "cell_type": "code",
      "source": [
        "#Write a program in Python to find the second highest number in an integer list.\n",
        "\n",
        "numb_list=[]\n",
        "x=int(input(\"Enter list size\"))\n",
        "\n",
        "print(\"\\n\")\n",
        "\n",
        "for r in range (0,x):\n",
        "  print(\"Enter no. at index \",r)\n",
        "  num=int(input())\n",
        "  numb_list.append(num)\n",
        "\n",
        "print(\"User list is: \",numb_list )\n",
        "print(\"The sorted list is: \")\n",
        "numb_list.sort()\n",
        "print(numb_list)\n",
        "(\"\\n\")\n",
        "print(\"The second highest number in list is: \", numb_list[3])\n",
        "\n",
        "\n",
        "\n"
      ],
      "metadata": {
        "colab": {
          "base_uri": "https://localhost:8080/"
        },
        "id": "GRmTCWGicm8O",
        "outputId": "e149ca75-4514-4b0a-d3ee-23508aa7eac3"
      },
      "execution_count": null,
      "outputs": [
        {
          "output_type": "stream",
          "name": "stdout",
          "text": [
            "Enter list size5\n",
            "\n",
            "\n",
            "Enter no. at index  0\n",
            "23\n",
            "Enter no. at index  1\n",
            "67\n",
            "Enter no. at index  2\n",
            "54\n",
            "Enter no. at index  3\n",
            "78\n",
            "Enter no. at index  4\n",
            "99\n",
            "User list is:  [23, 67, 54, 78, 99]\n",
            "The sorted list is: \n",
            "[23, 54, 67, 78, 99]\n",
            "The second highest number in list is:  78\n"
          ]
        }
      ]
    },
    {
      "cell_type": "markdown",
      "source": [
        "Q6) Python program to sort characters in descending\n",
        "order."
      ],
      "metadata": {
        "id": "Q2ytg4vUzVBf"
      }
    },
    {
      "cell_type": "code",
      "source": [
        "#Python program to sort characters in descending order.\n",
        "\n",
        "item_list=[]\n",
        "p=int(input(\" Enter list size\"))\n",
        "\n",
        "print(\"\\n\")\n",
        "for i in range (0,p):\n",
        "  print(\"Enter item at index \",i, )\n",
        "  item=input()\n",
        "  item_list.append(item)\n",
        "\n",
        "print(\"User list is\" ,item_list)\n",
        "print(\"\\nThe sort list is: \")\n",
        "item_list.sort()\n",
        "print(item_list)\n",
        "\n",
        "print(item_list.reverse())\n",
        "print(\"Items in descending order are: \", item_list)"
      ],
      "metadata": {
        "colab": {
          "base_uri": "https://localhost:8080/"
        },
        "id": "e9XCzYmShEtD",
        "outputId": "06a3c0df-d85e-478a-9c19-becd5ba33c18"
      },
      "execution_count": 11,
      "outputs": [
        {
          "output_type": "stream",
          "name": "stdout",
          "text": [
            " Enter list size5\n",
            "\n",
            "\n",
            "Enter item at index  0\n",
            "juice\n",
            "Enter item at index  1\n",
            "milkshake\n",
            "Enter item at index  2\n",
            "falooda\n",
            "Enter item at index  3\n",
            "pepsi\n",
            "Enter item at index  4\n",
            "milk\n",
            "User list is ['juice', 'milkshake', 'falooda', 'pepsi', 'milk']\n",
            "\n",
            "The sort list is: \n",
            "['falooda', 'juice', 'milk', 'milkshake', 'pepsi']\n",
            "None\n",
            "Items in descending order are:  ['pepsi', 'milkshake', 'milk', 'juice', 'falooda']\n"
          ]
        }
      ]
    },
    {
      "cell_type": "markdown",
      "source": [
        "Q7) Python program to remove repeated characters from a\n",
        "string."
      ],
      "metadata": {
        "id": "BuAWU62AEW3A"
      }
    },
    {
      "cell_type": "code",
      "source": [
        "#Python program to remove repeated characters from a string.\n",
        "list_num=[1,1,3,3,3,3,9,6,7,8,7,5,4]\n",
        "print(\"The list after removal of repeated numbers is: \")\n",
        "list_num_final=set(list_num)\n",
        "print(list(list_num_final))"
      ],
      "metadata": {
        "colab": {
          "base_uri": "https://localhost:8080/"
        },
        "id": "Xel40DdTwBjV",
        "outputId": "dd29d25e-8e57-4e58-f176-2654e2538d0f"
      },
      "execution_count": null,
      "outputs": [
        {
          "output_type": "stream",
          "name": "stdout",
          "text": [
            "The list after removal of repeated numbers is: \n",
            "[1, 3, 4, 5, 6, 7, 8, 9]\n"
          ]
        }
      ]
    },
    {
      "cell_type": "markdown",
      "source": [
        "Q8) Python program to check if a given character is a\n",
        "vowel or consonant."
      ],
      "metadata": {
        "id": "TJ5wcr54Ei-g"
      }
    },
    {
      "cell_type": "code",
      "source": [
        "# Python program to chack if a given character is a vowel or a consonant.\n",
        "#taking input alphabet from user\n",
        "alphabet=input(\"Enter a alphabet: \")\n",
        "\n",
        "if(alphabet=='A'or alphabet=='a'or alphabet=='E' or alphabet=='e'or alphabet=='I'or alphabet=='i' or alphabet=='O' or alphabet=='o' or alphabet=='U' or alphabet=='u'):\n",
        "     print(alphabet,\" alphabet is a vowel\")\n",
        "else:\n",
        "   print(alphabet, \"alphabet is a consonant\") "
      ],
      "metadata": {
        "id": "IWo2cTCBwZUk",
        "colab": {
          "base_uri": "https://localhost:8080/"
        },
        "outputId": "71570d7d-911d-4c43-b8ea-cca9b551928d"
      },
      "execution_count": null,
      "outputs": [
        {
          "output_type": "stream",
          "name": "stdout",
          "text": [
            "Enter a alphabet: g\n",
            "g alphabet is a consonant\n"
          ]
        }
      ]
    },
    {
      "cell_type": "markdown",
      "source": [
        ""
      ],
      "metadata": {
        "id": "5ItO5QvNcMnf"
      }
    },
    {
      "cell_type": "markdown",
      "source": [
        "Q9) Python Program to calculate factorial."
      ],
      "metadata": {
        "id": "Ac04V__LEq9P"
      }
    },
    {
      "cell_type": "code",
      "source": [
        "#Python program to calculate factorial.\n",
        "\n",
        "num=int(input(\"Enter a number: \"))\n",
        "factorial = 1\n",
        "if num<0:\n",
        "  print(\"No factorial\")\n",
        "elif num==0:\n",
        "  print(\"Zero factorial is 1\")\n",
        "else:\n",
        "  for i in range(1, num+1):\n",
        "      factorial = factorial*i\n",
        "  print(\"The factorial of\", num, \"=\", factorial)\n"
      ],
      "metadata": {
        "id": "rUubpbiIwiUM",
        "colab": {
          "base_uri": "https://localhost:8080/"
        },
        "outputId": "2a780d01-1b34-4659-eca3-8cd21afdf30e"
      },
      "execution_count": 7,
      "outputs": [
        {
          "output_type": "stream",
          "name": "stdout",
          "text": [
            "Enter a number: 4\n",
            "The factorial of 4 = 24\n"
          ]
        }
      ]
    },
    {
      "cell_type": "markdown",
      "source": [
        "Q10) Python Program to merge two lists."
      ],
      "metadata": {
        "id": "UTzGtUcOE0cn"
      }
    },
    {
      "cell_type": "code",
      "source": [
        "#Python program to merge two lists.\n",
        "list_1=['cup','table','chair','sofa']\n",
        "list_2=['cake','honey','biscuit','pizza']\n",
        "#merging list\n",
        "list_3=list_1+list_1\n",
        "print(list_3)"
      ],
      "metadata": {
        "id": "hZGJD_aVwqnU",
        "colab": {
          "base_uri": "https://localhost:8080/"
        },
        "outputId": "1f42f878-e67b-47f0-8d80-e21be499c529"
      },
      "execution_count": null,
      "outputs": [
        {
          "output_type": "stream",
          "name": "stdout",
          "text": [
            "['cup', 'table', 'chair', 'sofa', 'cake', 'honey', 'biscuit', 'pizza']\n"
          ]
        }
      ]
    },
    {
      "cell_type": "code",
      "source": [
        ""
      ],
      "metadata": {
        "id": "bbF0r6WY0qPn"
      },
      "execution_count": null,
      "outputs": []
    }
  ]
}